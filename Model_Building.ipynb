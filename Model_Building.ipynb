{
  "nbformat": 4,
  "nbformat_minor": 0,
  "metadata": {
    "colab": {
      "provenance": []
    },
    "kernelspec": {
      "name": "python3",
      "display_name": "Python 3"
    },
    "language_info": {
      "name": "python"
    }
  },
  "cells": [
    {
      "cell_type": "code",
      "source": [
        "#Loading Augmented Data\n",
        "data_root = (\"/content/drive/MyDrive/cow_augmntd\")"
      ],
      "metadata": {
        "id": "VLFPWYmC2FjU"
      },
      "execution_count": 1,
      "outputs": []
    },
    {
      "cell_type": "code",
      "source": [
        "#Defining Shape of the input image\n",
        "IMAGE_SHAPE = (224, 224)"
      ],
      "metadata": {
        "id": "jkdItKgK2Kov"
      },
      "execution_count": 2,
      "outputs": []
    },
    {
      "cell_type": "code",
      "source": [
        "TRAINING_DATA_DIR = str(data_root)"
      ],
      "metadata": {
        "id": "QpzmKLyc2P8f"
      },
      "execution_count": 3,
      "outputs": []
    },
    {
      "cell_type": "code",
      "source": [
        "#Setting Arguments for the data Generator\n",
        "datagen_kwargs = dict(rescale=1./255, validation_split=.30)"
      ],
      "metadata": {
        "id": "mH82djSP2Uvw"
      },
      "execution_count": 4,
      "outputs": []
    },
    {
      "cell_type": "code",
      "source": [
        "#splitting the data into train and validation\n",
        "import tensorflow as tf\n",
        "valid_datagen = tf.keras.preprocessing.image.ImageDataGenerator(**datagen_kwargs)\n",
        "valid_generator = valid_datagen.flow_from_directory(\n",
        "TRAINING_DATA_DIR,\n",
        "subset=\"validation\",\n",
        "shuffle=True,\n",
        "target_size=IMAGE_SHAPE\n",
        ")\n",
        "train_datagen = tf.keras.preprocessing.image.ImageDataGenerator(**datagen_kwargs)\n",
        "train_generator = train_datagen.flow_from_directory(\n",
        "TRAINING_DATA_DIR,\n",
        "subset=\"training\",\n",
        "shuffle=True,\n",
        "target_size=IMAGE_SHAPE)"
      ],
      "metadata": {
        "colab": {
          "base_uri": "https://localhost:8080/"
        },
        "id": "1c54D6PR2Zof",
        "outputId": "c750b52e-3a33-45b9-a286-3294b622855a"
      },
      "execution_count": 5,
      "outputs": [
        {
          "output_type": "stream",
          "name": "stdout",
          "text": [
            "Found 150 images belonging to 10 classes.\n",
            "Found 366 images belonging to 10 classes.\n"
          ]
        }
      ]
    },
    {
      "cell_type": "code",
      "source": [
        "for image_batch,label_batch in train_generator:\n",
        "  break\n",
        " # print(image_batch.shape,label_batch.shape)"
      ],
      "metadata": {
        "id": "Ar9X6si329hr"
      },
      "execution_count": 7,
      "outputs": []
    },
    {
      "cell_type": "code",
      "source": [
        "#Print the class indices\n",
        "print (train_generator.class_indices)"
      ],
      "metadata": {
        "colab": {
          "base_uri": "https://localhost:8080/"
        },
        "id": "00OkJ5TJ22aL",
        "outputId": "cefc1d9f-8beb-4aa3-f33d-e91946775bbb"
      },
      "execution_count": 8,
      "outputs": [
        {
          "output_type": "stream",
          "name": "stdout",
          "text": [
            "{'cow0': 0, 'cow1': 1, 'cow2': 2, 'cow3': 3, 'cow4': 4, 'cow5': 5, 'cow6': 6, 'cow7': 7, 'cow8': 8, 'cow9': 9}\n"
          ]
        }
      ]
    },
    {
      "cell_type": "code",
      "source": [
        "#Printing and saving class indices\n",
        "labels = '\\n'.join(sorted(train_generator.class_indices.keys()))\n",
        "with open('labels.txt', 'w') as f:\n",
        " f.write(labels)\n",
        "!cat labels.txt"
      ],
      "metadata": {
        "colab": {
          "base_uri": "https://localhost:8080/"
        },
        "id": "97U1IrCp3WVa",
        "outputId": "d8eac90d-58a2-4647-aced-bd775622e30b"
      },
      "execution_count": 9,
      "outputs": [
        {
          "output_type": "stream",
          "name": "stdout",
          "text": [
            "cow0\n",
            "cow1\n",
            "cow2\n",
            "cow3\n",
            "cow4\n",
            "cow5\n",
            "cow6\n",
            "cow7\n",
            "cow8\n",
            "cow9"
          ]
        }
      ]
    },
    {
      "cell_type": "code",
      "source": [
        "#Using MobileNetV2 as feature extractor in Tensorflow\n",
        "import tensorflow_hub as hub\n",
        "model = tf.keras.Sequential([\n",
        " hub.KerasLayer(\"https://tfhub.dev/google/tf2-preview/mobilenet_v2/feature_vector/4\", \n",
        " output_shape=[1280],\n",
        " trainable=False),\n",
        " tf.keras.layers.Dropout(0.4),\n",
        " #Adding final layer of classification\n",
        " tf.keras.layers.Dense(train_generator.num_classes, activation='softmax')\n",
        "])\n",
        "model.build([None, 224, 224, 3])\n",
        "model.summary()"
      ],
      "metadata": {
        "colab": {
          "base_uri": "https://localhost:8080/"
        },
        "id": "2HW7THWm223P",
        "outputId": "f2c89e2f-0acd-4257-cac5-ef3f6d77bbd0"
      },
      "execution_count": 10,
      "outputs": [
        {
          "output_type": "stream",
          "name": "stdout",
          "text": [
            "Model: \"sequential\"\n",
            "_________________________________________________________________\n",
            " Layer (type)                Output Shape              Param #   \n",
            "=================================================================\n",
            " keras_layer (KerasLayer)    (None, 1280)              2257984   \n",
            "                                                                 \n",
            " dropout (Dropout)           (None, 1280)              0         \n",
            "                                                                 \n",
            " dense (Dense)               (None, 10)                12810     \n",
            "                                                                 \n",
            "=================================================================\n",
            "Total params: 2,270,794\n",
            "Trainable params: 12,810\n",
            "Non-trainable params: 2,257,984\n",
            "_________________________________________________________________\n"
          ]
        }
      ]
    },
    {
      "cell_type": "code",
      "source": [
        "#Choosing Optimizer \n",
        "optimizer = tf.keras.optimizers.Adam(lr=1e-3)\n",
        "model.compile(\n",
        " optimizer=optimizer,\n",
        " loss='categorical_crossentropy',\n",
        " metrics=['acc'])"
      ],
      "metadata": {
        "id": "clfycpw24PIQ",
        "colab": {
          "base_uri": "https://localhost:8080/"
        },
        "outputId": "cffc7e01-3f39-485d-a0b0-0d560a3a47b0"
      },
      "execution_count": 11,
      "outputs": [
        {
          "output_type": "stream",
          "name": "stderr",
          "text": [
            "/usr/local/lib/python3.8/dist-packages/keras/optimizers/optimizer_v2/adam.py:110: UserWarning: The `lr` argument is deprecated, use `learning_rate` instead.\n",
            "  super(Adam, self).__init__(name, **kwargs)\n"
          ]
        }
      ]
    },
    {
      "cell_type": "code",
      "source": [
        "train_generator.samples"
      ],
      "metadata": {
        "id": "u1OXq4KZr1JM",
        "outputId": "856e3da6-9e55-4f5b-bad9-a48b40d858a7",
        "colab": {
          "base_uri": "https://localhost:8080/"
        }
      },
      "execution_count": 12,
      "outputs": [
        {
          "output_type": "execute_result",
          "data": {
            "text/plain": [
              "366"
            ]
          },
          "metadata": {},
          "execution_count": 12
        }
      ]
    },
    {
      "cell_type": "code",
      "source": [
        "import numpy as np\n",
        "#Training the model\n",
        "steps_per_epoch = np.ceil(train_generator.samples/train_generator.batch_size)\n",
        "val_steps_per_epoch = np.ceil(valid_generator.samples/valid_generator.batch_size)\n",
        "hist = model.fit(\n",
        " train_generator, \n",
        " epochs=5,\n",
        " verbose=1,\n",
        " steps_per_epoch=steps_per_epoch,\n",
        " validation_data=valid_generator,\n",
        " validation_steps=val_steps_per_epoch).history"
      ],
      "metadata": {
        "colab": {
          "base_uri": "https://localhost:8080/"
        },
        "id": "ICORL2ma4cQQ",
        "outputId": "680dff8b-1f6b-4599-a40a-a071f4aa7940"
      },
      "execution_count": 13,
      "outputs": [
        {
          "output_type": "stream",
          "name": "stdout",
          "text": [
            "Epoch 1/5\n",
            "12/12 [==============================] - 210s 17s/step - loss: 2.3152 - acc: 0.2268 - val_loss: 1.2844 - val_acc: 0.7467\n",
            "Epoch 2/5\n",
            "12/12 [==============================] - 15s 1s/step - loss: 1.1553 - acc: 0.6257 - val_loss: 0.6685 - val_acc: 0.9533\n",
            "Epoch 3/5\n",
            "12/12 [==============================] - 18s 2s/step - loss: 0.6864 - acc: 0.8333 - val_loss: 0.3851 - val_acc: 0.9867\n",
            "Epoch 4/5\n",
            "12/12 [==============================] - 15s 1s/step - loss: 0.4361 - acc: 0.9098 - val_loss: 0.2482 - val_acc: 0.9867\n",
            "Epoch 5/5\n",
            "12/12 [==============================] - 15s 1s/step - loss: 0.2741 - acc: 0.9590 - val_loss: 0.1699 - val_acc: 0.9933\n"
          ]
        }
      ]
    },
    {
      "cell_type": "code",
      "source": [
        "#Printing scores\n",
        "final_loss, final_accuracy = model.evaluate(valid_generator, steps = val_steps_per_epoch)\n",
        "print(\"Final loss: {:.2f}\".format(final_loss))\n",
        "print(\"Final accuracy: {:.2f}%\".format(final_accuracy * 100))"
      ],
      "metadata": {
        "colab": {
          "base_uri": "https://localhost:8080/"
        },
        "id": "0QKw-5zzAFho",
        "outputId": "59a9976e-516f-4a63-c837-93e93975bc60"
      },
      "execution_count": 14,
      "outputs": [
        {
          "output_type": "stream",
          "name": "stdout",
          "text": [
            "5/5 [==============================] - 5s 856ms/step - loss: 0.1699 - acc: 0.9933\n",
            "Final loss: 0.17\n",
            "Final accuracy: 99.33%\n"
          ]
        }
      ]
    },
    {
      "cell_type": "code",
      "source": [
        "#Plotting the graph\n",
        "import matplotlib.pyplot as plt\n",
        "plt.figure()\n",
        "plt.ylabel(\"Loss (training and validation)\")\n",
        "plt.xlabel(\"Training Steps\")\n",
        "plt.ylim([0,50])\n",
        "plt.plot(hist[\"loss\"])\n",
        "plt.plot(hist[\"val_loss\"])\n",
        "plt.figure()\n",
        "plt.ylabel(\"Accuracy (training and validation)\")\n",
        "plt.xlabel(\"Training Steps\")\n",
        "plt.ylim([0,1])\n",
        "plt.plot(hist[\"acc\"])\n",
        "plt.plot(hist[\"val_acc\"])\n",
        "plt.legend()"
      ],
      "metadata": {
        "colab": {
          "base_uri": "https://localhost:8080/",
          "height": 584
        },
        "id": "SUhI_LQpALpv",
        "outputId": "a823e267-c149-4c8e-d00c-02771107b247"
      },
      "execution_count": 15,
      "outputs": [
        {
          "output_type": "stream",
          "name": "stderr",
          "text": [
            "WARNING:matplotlib.legend:No handles with labels found to put in legend.\n"
          ]
        },
        {
          "output_type": "execute_result",
          "data": {
            "text/plain": [
              "<matplotlib.legend.Legend at 0x7efc988b26d0>"
            ]
          },
          "metadata": {},
          "execution_count": 15
        },
        {
          "output_type": "display_data",
          "data": {
            "text/plain": [
              "<Figure size 432x288 with 1 Axes>"
            ],
            "image/png": "[encoded data removed]"
          },
          "metadata": {
            "needs_background": "light"
          }
        },
        {
          "output_type": "display_data",
          "data": {
            "text/plain": [
              "<Figure size 432x288 with 1 Axes>"
            ],
            "image/png": "[encoded data removed]"
          },
          "metadata": {
            "needs_background": "light"
          }
        }
      ]
    },
    {
      "cell_type": "code",
      "source": [
        "#Saving the model\n",
        "model.save('cow.weights.best.hdf5')"
      ],
      "metadata": {
        "id": "D1QCbYBdV6Dx"
      },
      "execution_count": 16,
      "outputs": []
    }
  ]
}