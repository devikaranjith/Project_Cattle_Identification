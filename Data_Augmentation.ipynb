{
  "nbformat": 4,
  "nbformat_minor": 0,
  "metadata": {
    "colab": {
      "provenance": []
    },
    "kernelspec": {
      "name": "python3",
      "display_name": "Python 3"
    },
    "language_info": {
      "name": "python"
    }
  },
  "cells": [
    {
      "cell_type": "code",
      "source": [
        "#Mounting Google Drive\n",
        "from google.colab import drive\n",
        "drive.mount('/content/drive')"
      ],
      "metadata": {
        "colab": {
          "base_uri": "https://localhost:8080/"
        },
        "id": "LCQyqhsG8RgG",
        "outputId": "aa1e6855-487d-455f-cbcb-9254be9dce2a"
      },
      "execution_count": null,
      "outputs": [
        {
          "output_type": "stream",
          "name": "stdout",
          "text": [
            "Mounted at /content/drive\n"
          ]
        }
      ]
    },
    {
      "cell_type": "code",
      "source": [
        "#Data Augmentation using Imagedata Generator\n",
        "from keras.preprocessing.image import ImageDataGenerator\n",
        "from skimage import io\n",
        "#Setting parameters to be changed in each image\n",
        "datagen = ImageDataGenerator(        \n",
        "        rotation_range = 40,\n",
        "        shear_range = 0.2,\n",
        "        zoom_range = 0.2,\n",
        "        horizontal_flip = True,\n",
        "        brightness_range = (0.5, 1.5))\n",
        "#Loading data and storing as array for further processing\n",
        "import numpy as np\n",
        "import os\n",
        "from PIL import Image\n",
        "image_directory = r'/content/drive/MyDrive/Mini_Project/'\n",
        "SIZE = 224\n",
        "dataset = []\n",
        "my_images = os.listdir(image_directory)\n",
        "for i, image_name in enumerate(my_images):    \n",
        "    if (image_name.split('.')[1] == 'jpeg' and image_name.split('.')[0] == 'cow10'):        \n",
        "        image = io.imread(image_directory + image_name)        \n",
        "        image = Image.fromarray(image, 'RGB')        \n",
        "        image = image.resize((SIZE,SIZE)) \n",
        "        dataset.append(np.array(image))\n",
        "#Generating 50 augmented images for each input image and storing into dezired location\n",
        "x = np.array(dataset)\n",
        "i = 0\n",
        "for batch in datagen.flow(x, batch_size=16,\n",
        "                          save_to_dir= r'/content/drive/MyDrive/output',\n",
        "                          save_prefix='cow10',\n",
        "                          save_format='jpg'):    \n",
        "    i += 1    \n",
        "    if i > 50:        \n",
        "        break"
      ],
      "metadata": {
        "id": "JzVTkED9VmRI"
      },
      "execution_count": null,
      "outputs": []
    },
    {
      "cell_type": "code",
      "source": [],
      "metadata": {
        "id": "ZzV6l_AgW0-q"
      },
      "execution_count": null,
      "outputs": []
    }
  ]
}